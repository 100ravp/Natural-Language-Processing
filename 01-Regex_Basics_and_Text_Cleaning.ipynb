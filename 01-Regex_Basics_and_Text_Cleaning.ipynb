{
 "cells": [
  {
   "cell_type": "markdown",
   "metadata": {},
   "source": [
    "## *About Regex (Regular Expression)*\n",
    "\n",
    "Regular expressions (called REs, or regexes, or regex patterns) are essentially a tiny, highly specialized programming language embedded inside Python and made available through the re module. Using this little language, you specify the rules for the set of possible strings that you want to match; this set might contain English sentences, or e-mail addresses, or TeX commands, or anything you like. You can then ask questions such as “Does this string match the pattern?”, or “Is there a match for the pattern anywhere in this string?”. You can also use REs to modify a string or to split it apart in various ways.\n",
    "\n",
    "For more information : https://docs.python.org/3/howto/regex.html#introduction"
   ]
  },
  {
   "cell_type": "code",
   "execution_count": 1,
   "metadata": {},
   "outputs": [],
   "source": [
    "import re"
   ]
  },
  {
   "cell_type": "code",
   "execution_count": 2,
   "metadata": {},
   "outputs": [],
   "source": [
    "content = \"\"\"\n",
    "My name is Saurav Prasad I have done my graduation in chemistry, \n",
    "and my masters is in Operational Research I m working as a data scientist for an MNC.\n",
    "I swtiched from chemistry to mathematically loaded field.I like to dance, \n",
    "and I was the vice-president of the dance scoiety of my college.My phone number is 634-458-6815\n",
    "\"\"\""
   ]
  },
  {
   "cell_type": "code",
   "execution_count": 3,
   "metadata": {},
   "outputs": [],
   "source": [
    "#defining the pattern\n",
    "pattern = \"masters\""
   ]
  },
  {
   "cell_type": "code",
   "execution_count": 4,
   "metadata": {},
   "outputs": [],
   "source": [
    "#object of the pattern\n",
    "search=re.search(pattern,content)"
   ]
  },
  {
   "cell_type": "code",
   "execution_count": 5,
   "metadata": {},
   "outputs": [
    {
     "data": {
      "text/plain": [
       "(74, 81)"
      ]
     },
     "execution_count": 5,
     "metadata": {},
     "output_type": "execute_result"
    }
   ],
   "source": [
    "#method returns the position of pattern\n",
    "search.span()"
   ]
  },
  {
   "cell_type": "code",
   "execution_count": 6,
   "metadata": {},
   "outputs": [
    {
     "data": {
      "text/plain": [
       "74"
      ]
     },
     "execution_count": 6,
     "metadata": {},
     "output_type": "execute_result"
    }
   ],
   "source": [
    "#return starting point of the pattern\n",
    "search.start()"
   ]
  },
  {
   "cell_type": "code",
   "execution_count": 7,
   "metadata": {},
   "outputs": [
    {
     "data": {
      "text/plain": [
       "81"
      ]
     },
     "execution_count": 7,
     "metadata": {},
     "output_type": "execute_result"
    }
   ],
   "source": [
    "#return end point of the pattern \n",
    "search.end()"
   ]
  },
  {
   "cell_type": "code",
   "execution_count": 8,
   "metadata": {},
   "outputs": [
    {
     "data": {
      "text/plain": [
       "2"
      ]
     },
     "execution_count": 8,
     "metadata": {},
     "output_type": "execute_result"
    }
   ],
   "source": [
    "pattern = \"chemistry\"\n",
    "re.search(pattern,content)\n",
    "\n",
    "matches = re.findall(pattern, content)\n",
    "len(matches)"
   ]
  },
  {
   "cell_type": "code",
   "execution_count": 9,
   "metadata": {},
   "outputs": [
    {
     "name": "stdout",
     "output_type": "stream",
     "text": [
      "(55, 64)\n",
      "(169, 178)\n"
     ]
    }
   ],
   "source": [
    "for match in re.finditer(pattern, content):\n",
    "    print(match.span())"
   ]
  },
  {
   "cell_type": "markdown",
   "metadata": {},
   "source": [
    "## *Generalised Pattern*"
   ]
  },
  {
   "cell_type": "code",
   "execution_count": 10,
   "metadata": {},
   "outputs": [
    {
     "data": {
      "text/plain": [
       "(311, 323)"
      ]
     },
     "execution_count": 10,
     "metadata": {},
     "output_type": "execute_result"
    }
   ],
   "source": [
    "pattern = r\"\\d\\d\\d-\\d\\d\\d-\\d\\d\\d\\d\"\n",
    "\n",
    "match = re.search(pattern,content)\n",
    "\n",
    "match.span()"
   ]
  },
  {
   "cell_type": "code",
   "execution_count": 11,
   "metadata": {},
   "outputs": [
    {
     "data": {
      "text/plain": [
       "'634-458-6815'"
      ]
     },
     "execution_count": 11,
     "metadata": {},
     "output_type": "execute_result"
    }
   ],
   "source": [
    "match.group()"
   ]
  },
  {
   "cell_type": "code",
   "execution_count": 12,
   "metadata": {},
   "outputs": [
    {
     "data": {
      "text/plain": [
       "'634-458-6815'"
      ]
     },
     "execution_count": 12,
     "metadata": {},
     "output_type": "execute_result"
    }
   ],
   "source": [
    "#using identifiers and quantifiers\n",
    "pattern = r\"(\\d{3})-(\\d{3})-(\\d{4})\"\n",
    "match1 = re.search(pattern,content)\n",
    "match1.group()"
   ]
  },
  {
   "cell_type": "code",
   "execution_count": 13,
   "metadata": {},
   "outputs": [
    {
     "name": "stdout",
     "output_type": "stream",
     "text": [
      "634\n",
      "458\n",
      "6815\n"
     ]
    }
   ],
   "source": [
    "print(match1.group(1))\n",
    "print(match1.group(2))\n",
    "print(match1.group(3))"
   ]
  },
  {
   "cell_type": "code",
   "execution_count": 14,
   "metadata": {},
   "outputs": [],
   "source": [
    "## *Text Cleaning"
   ]
  },
  {
   "cell_type": "code",
   "execution_count": 15,
   "metadata": {},
   "outputs": [],
   "source": [
    "text = \"\"\"\n",
    "My name is Saurav        Prasad I've done my graduation in chemistry, \n",
    "and my masters is         in Operational Research I m working as a data scientist for an MNC.\n",
    "I swtiched from ChemisTRY to MATHEmatically loaded field.I like to dance, \n",
    "and I      was the vice-president of the dance scoiety of my college.\n",
    "My phone number is    585-334-6815.\n",
    "I dont give #$%^&*   about what people think.\n",
    "I just want to travel to ROME(Italy).\n",
    "my website is    http://www.datasciencenovice.com\n",
    "my mail    address is datasciencenovice@gmail.com\n",
    "\"\"\""
   ]
  },
  {
   "cell_type": "code",
   "execution_count": 16,
   "metadata": {},
   "outputs": [
    {
     "name": "stdout",
     "output_type": "stream",
     "text": [
      "\n",
      "My name is Saurav        Prasad I've done my graduation in chemistry, \n",
      "and my masters is         in Operational Research I m working as a data scientist for an MNC.\n",
      "I swtiched from ChemisTRY to MATHEmatically loaded field.I like to dance, \n",
      "and I      was the vice-president of the dance scoiety of my college.\n",
      "My phone number is    585-334-6815.\n",
      "I dont give #$%^&*   about what people think.\n",
      "I just want to travel to ROME(Italy).\n",
      "my website is    http://www.datasciencenovice.com\n",
      "my mail    address is datasciencenovice@gmail.com\n",
      "\n"
     ]
    }
   ],
   "source": [
    "print(text)"
   ]
  },
  {
   "cell_type": "code",
   "execution_count": 17,
   "metadata": {},
   "outputs": [
    {
     "name": "stdout",
     "output_type": "stream",
     "text": [
      " My name is Saurav Prasad I've done my graduation in chemistry, and my masters is in Operational Research I m working as a data scientist for an MNC. I swtiched from ChemisTRY to MATHEmatically loaded field.I like to dance, and I was the vice-president of the dance scoiety of my college. My phone number is 585-334-6815. I dont give #$%^&* about what people think. I just want to travel to ROME(Italy). my website is http://www.datasciencenovice.com my mail address is datasciencenovice@gmail.com \n"
     ]
    }
   ],
   "source": [
    "#removing multiple spaces\n",
    "text= re.sub(r\"\\s+\",\" \",text)\n",
    "print(text)"
   ]
  },
  {
   "cell_type": "code",
   "execution_count": 18,
   "metadata": {},
   "outputs": [
    {
     "name": "stdout",
     "output_type": "stream",
     "text": [
      " My name is Saurav Prasad I've done my graduation in chemistry, and my masters is in Operational Research I m working as a data scientist for an MNC. I swtiched from ChemisTRY to MATHEmatically loaded field.I like to dance, and I was the vice-president of the dance scoiety of my college. My phone number is 585-334-6815. I dont give #$%^&* about what people think. I just want to travel to ROME(Italy). my website is URL my mail address is datasciencenovice@gmail.com \n"
     ]
    }
   ],
   "source": [
    "#replacing URL with word URL\n",
    "text = re.sub(r\"http\\S+\",\"URL\",text)\n",
    "print(text)"
   ]
  },
  {
   "cell_type": "code",
   "execution_count": 19,
   "metadata": {},
   "outputs": [
    {
     "name": "stdout",
     "output_type": "stream",
     "text": [
      " My name is Saurav Prasad I've done my graduation in chemistry, and my masters is in Operational Research I m working as a data scientist for an MNC. I swtiched from ChemisTRY to MATHEmatically loaded field.I like to dance, and I was the vice-president of the dance scoiety of my college. My phone number is XXX. I dont give #$%^&* about what people think. I just want to travel to ROME(Italy). my website is URL my mail address is datasciencenovice@gmail.com \n"
     ]
    }
   ],
   "source": [
    "#removing phone number\n",
    "pattern = r\"(\\d{3})-(\\d{3})-(\\d{4})\"\n",
    "text = re.sub(pattern,\"XXX\",text)\n",
    "print(text)"
   ]
  },
  {
   "cell_type": "code",
   "execution_count": 20,
   "metadata": {},
   "outputs": [
    {
     "name": "stdout",
     "output_type": "stream",
     "text": [
      " My name is Saurav Prasad I've done my graduation in chemistry, and my masters is in Operational Research I m working as a data scientist for an MNC. I swtiched from ChemisTRY to MATHEmatically loaded field.I like to dance, and I was the vice-president of the dance scoiety of my college. My phone number is XXX. I dont give #$%^&* about what people think. I just want to travel to ROME(Italy). my website is URL my mail address is E_MAIL \n"
     ]
    }
   ],
   "source": [
    "#removing gmail ad\n",
    "text = re.sub(r\"\\S+@gmail.com\",\"E_MAIL\",text)\n",
    "print(text)"
   ]
  },
  {
   "cell_type": "code",
   "execution_count": 21,
   "metadata": {},
   "outputs": [
    {
     "name": "stdout",
     "output_type": "stream",
     "text": [
      " my name is saurav prasad i've done my graduation in chemistry, and my masters is in operational research i m working as a data scientist for an mnc. i swtiched from chemistry to mathematically loaded field.i like to dance, and i was the vice-president of the dance scoiety of my college. my phone number is xxx. i dont give #$%^&* about what people think. i just want to travel to rome(italy). my website is url my mail address is e_mail \n"
     ]
    }
   ],
   "source": [
    "#lower casing\n",
    "text = text.lower()\n",
    "print(text)"
   ]
  },
  {
   "cell_type": "code",
   "execution_count": 22,
   "metadata": {},
   "outputs": [
    {
     "name": "stdout",
     "output_type": "stream",
     "text": [
      " my name is saurav prasad i have done my graduation in chemistry, and my masters is in operational research i m working as a data scientist for an mnc. i swtiched from chemistry to mathematically loaded field.i like to dance, and i was the vice-president of the dance scoiety of my college. my phone number is xxx. i dont give #$%^&* about what people think. i just want to travel to rome(italy). my website is url my mail address is e_mail \n"
     ]
    }
   ],
   "source": [
    "#changing grammatcial syntax\n",
    "text = re.sub(\"i've\",\"i have\",text)\n",
    "print(text)"
   ]
  },
  {
   "cell_type": "code",
   "execution_count": 23,
   "metadata": {},
   "outputs": [],
   "source": [
    "# removing special Character \n",
    "text = re.sub(\"[#%^&*()$]\",\"\",text)"
   ]
  },
  {
   "cell_type": "code",
   "execution_count": 24,
   "metadata": {},
   "outputs": [
    {
     "name": "stdout",
     "output_type": "stream",
     "text": [
      " my name is saurav prasad i have done my graduation in chemistry, and my masters is in operational research i m working as a data scientist for an mnc. i swtiched from chemistry to mathematically loaded field.i like to dance, and i was the vice-president of the dance scoiety of my college. my phone number is xxx. i dont give  about what people think. i just want to travel to romeitaly. my website is url my mail address is e_mail \n"
     ]
    }
   ],
   "source": [
    "print(text)"
   ]
  },
  {
   "cell_type": "code",
   "execution_count": 25,
   "metadata": {},
   "outputs": [],
   "source": [
    "def clean_text(text):\n",
    "    \n",
    "    \"\"\"Returns the clean text\"\"\"\n",
    "    \n",
    "    text= re.sub(r\"\\s+\",\" \",text)\n",
    "    text = re.sub(r\"http\\S+\",\"URL\",text)\n",
    "    \n",
    "    pattern = r\"(\\d{3})-(\\d{3})-(\\d{4})\"\n",
    "    text = re.sub(pattern,\"XXX\",text)\n",
    "    \n",
    "    text = re.sub(r\"\\S+@gmail.com\",\"E_MAIL\",text)\n",
    "    text = text.lower()\n",
    "    \n",
    "    text = re.sub(\"i've\",\"i have\",text)\n",
    "    text = re.sub(\"[#%^&*()$]\",\"\",text)\n",
    "    \n",
    "    return text\n",
    "    "
   ]
  },
  {
   "cell_type": "code",
   "execution_count": 26,
   "metadata": {},
   "outputs": [],
   "source": [
    "text = \"\"\"\n",
    "My name is Saurav        Prasad I've done my graduation in chemistry, \n",
    "and my masters is         in Operational Research I m working as a data scientist for an MNC.\n",
    "I swtiched from ChemisTRY to MATHEmatically loaded field.I like to dance, \n",
    "and I      was the vice-president of the dance scoiety of my college.\n",
    "My phone number is    585-334-6815.\n",
    "I dont give #$%^&*   about what people think.\n",
    "I just want to travel to ROME(Italy).\n",
    "my website is    http://www.datasciencenovice.com\n",
    "my mail    address is datasciencenovice@gmail.com\n",
    "\"\"\""
   ]
  },
  {
   "cell_type": "code",
   "execution_count": 27,
   "metadata": {},
   "outputs": [
    {
     "name": "stdout",
     "output_type": "stream",
     "text": [
      " my name is saurav prasad i have done my graduation in chemistry, and my masters is in operational research i m working as a data scientist for an mnc. i swtiched from chemistry to mathematically loaded field.i like to dance, and i was the vice-president of the dance scoiety of my college. my phone number is xxx. i dont give  about what people think. i just want to travel to romeitaly. my website is url my mail address is e_mail \n"
     ]
    }
   ],
   "source": [
    "text = clean_text(text)\n",
    "print(text)"
   ]
  }
 ],
 "metadata": {
  "kernelspec": {
   "display_name": "Python 3",
   "language": "python",
   "name": "python3"
  },
  "language_info": {
   "codemirror_mode": {
    "name": "ipython",
    "version": 3
   },
   "file_extension": ".py",
   "mimetype": "text/x-python",
   "name": "python",
   "nbconvert_exporter": "python",
   "pygments_lexer": "ipython3",
   "version": "3.9.1"
  }
 },
 "nbformat": 4,
 "nbformat_minor": 4
}
